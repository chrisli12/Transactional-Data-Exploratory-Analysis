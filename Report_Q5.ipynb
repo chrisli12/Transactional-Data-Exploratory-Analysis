{
 "cells": [
  {
   "cell_type": "markdown",
   "metadata": {},
   "source": [
    "# Question 5"
   ]
  },
  {
   "cell_type": "markdown",
   "metadata": {},
   "source": [
    "## Step 1: Ask"
   ]
  },
  {
   "cell_type": "markdown",
   "metadata": {},
   "source": [
    "The purpose of this step is to define the problem and understanding the stakeholder's expectations. In this case, I want to look at some sale trends, cateogry performance and insights, and find out how customer loyalty impact sales. How can we improve underperforming category? Can customer loyalty campaigns help with sales?"
   ]
  },
  {
   "cell_type": "markdown",
   "metadata": {},
   "source": [
    "Some questions to ask are...\n",
    "1. How much revenue is generated between each segment and category for all active segment? \n",
    "3. Which category has the most loyal customer and how does that category perform compare to other category?"
   ]
  },
  {
   "cell_type": "markdown",
   "metadata": {},
   "source": [
    "## Step 2: Prepare"
   ]
  },
  {
   "cell_type": "markdown",
   "metadata": {},
   "source": [
    "We are going to use all three tables in the sample database to answer our questions, I will mainly use this jupyter notebook to document my steps and findings."
   ]
  },
  {
   "cell_type": "markdown",
   "metadata": {},
   "source": [
    "In order to load the data for analysis, I first export each table from the sample.db to a csv file using sqlite3 with the command .output, then I will be able to use pandas to load the data into this workplace."
   ]
  },
  {
   "cell_type": "code",
   "execution_count": 1,
   "metadata": {},
   "outputs": [],
   "source": [
    "import numpy as np\n",
    "import pandas as pd\n",
    "import matplotlib.pyplot as plt\n",
    "import seaborn as sns"
   ]
  },
  {
   "cell_type": "code",
   "execution_count": 26,
   "metadata": {},
   "outputs": [],
   "source": [
    "trans_df = pd.read_csv('data/transactions.csv')\n",
    "prod_df = pd.read_csv('data/products.csv')\n",
    "seg_df = pd.read_csv('data/segments.csv')"
   ]
  },
  {
   "cell_type": "code",
   "execution_count": 3,
   "metadata": {
    "scrolled": true
   },
   "outputs": [
    {
     "data": {
      "text/html": [
       "<div>\n",
       "<style scoped>\n",
       "    .dataframe tbody tr th:only-of-type {\n",
       "        vertical-align: middle;\n",
       "    }\n",
       "\n",
       "    .dataframe tbody tr th {\n",
       "        vertical-align: top;\n",
       "    }\n",
       "\n",
       "    .dataframe thead th {\n",
       "        text-align: right;\n",
       "    }\n",
       "</style>\n",
       "<table border=\"1\" class=\"dataframe\">\n",
       "  <thead>\n",
       "    <tr style=\"text-align: right;\">\n",
       "      <th></th>\n",
       "      <th>trans_id</th>\n",
       "      <th>trans_dt</th>\n",
       "      <th>cust_id</th>\n",
       "      <th>prod_id</th>\n",
       "      <th>item_qty</th>\n",
       "      <th>item_price</th>\n",
       "    </tr>\n",
       "  </thead>\n",
       "  <tbody>\n",
       "    <tr>\n",
       "      <th>0</th>\n",
       "      <td>1</td>\n",
       "      <td>2016-01-02 10:06:00</td>\n",
       "      <td>9085146</td>\n",
       "      <td>223029</td>\n",
       "      <td>1</td>\n",
       "      <td>42.99</td>\n",
       "    </tr>\n",
       "    <tr>\n",
       "      <th>1</th>\n",
       "      <td>2</td>\n",
       "      <td>2016-01-02 10:30:00</td>\n",
       "      <td>1215814</td>\n",
       "      <td>252270</td>\n",
       "      <td>1</td>\n",
       "      <td>103.95</td>\n",
       "    </tr>\n",
       "    <tr>\n",
       "      <th>2</th>\n",
       "      <td>2</td>\n",
       "      <td>2016-01-02 10:30:00</td>\n",
       "      <td>1215814</td>\n",
       "      <td>260383</td>\n",
       "      <td>1</td>\n",
       "      <td>74.99</td>\n",
       "    </tr>\n",
       "    <tr>\n",
       "      <th>3</th>\n",
       "      <td>4</td>\n",
       "      <td>2016-01-02 11:33:00</td>\n",
       "      <td>18511160</td>\n",
       "      <td>269119</td>\n",
       "      <td>1</td>\n",
       "      <td>51.99</td>\n",
       "    </tr>\n",
       "    <tr>\n",
       "      <th>4</th>\n",
       "      <td>4</td>\n",
       "      <td>2016-01-02 11:33:00</td>\n",
       "      <td>18511160</td>\n",
       "      <td>411162</td>\n",
       "      <td>1</td>\n",
       "      <td>59.99</td>\n",
       "    </tr>\n",
       "    <tr>\n",
       "      <th>5</th>\n",
       "      <td>6</td>\n",
       "      <td>2016-01-02 11:35:00</td>\n",
       "      <td>15251041</td>\n",
       "      <td>251678</td>\n",
       "      <td>1</td>\n",
       "      <td>61.99</td>\n",
       "    </tr>\n",
       "    <tr>\n",
       "      <th>6</th>\n",
       "      <td>7</td>\n",
       "      <td>2016-01-02 11:36:00</td>\n",
       "      <td>14769966</td>\n",
       "      <td>218373</td>\n",
       "      <td>1</td>\n",
       "      <td>49.99</td>\n",
       "    </tr>\n",
       "    <tr>\n",
       "      <th>7</th>\n",
       "      <td>7</td>\n",
       "      <td>2016-01-02 11:36:00</td>\n",
       "      <td>14769966</td>\n",
       "      <td>243278</td>\n",
       "      <td>1</td>\n",
       "      <td>23.49</td>\n",
       "    </tr>\n",
       "    <tr>\n",
       "      <th>8</th>\n",
       "      <td>9</td>\n",
       "      <td>2016-01-02 11:55:00</td>\n",
       "      <td>5904487</td>\n",
       "      <td>258744</td>\n",
       "      <td>1</td>\n",
       "      <td>38.99</td>\n",
       "    </tr>\n",
       "    <tr>\n",
       "      <th>9</th>\n",
       "      <td>10</td>\n",
       "      <td>2016-01-02 12:16:00</td>\n",
       "      <td>3769351</td>\n",
       "      <td>255802</td>\n",
       "      <td>1</td>\n",
       "      <td>32.99</td>\n",
       "    </tr>\n",
       "  </tbody>\n",
       "</table>\n",
       "</div>"
      ],
      "text/plain": [
       "   trans_id             trans_dt   cust_id  prod_id  item_qty  item_price\n",
       "0         1  2016-01-02 10:06:00   9085146   223029         1       42.99\n",
       "1         2  2016-01-02 10:30:00   1215814   252270         1      103.95\n",
       "2         2  2016-01-02 10:30:00   1215814   260383         1       74.99\n",
       "3         4  2016-01-02 11:33:00  18511160   269119         1       51.99\n",
       "4         4  2016-01-02 11:33:00  18511160   411162         1       59.99\n",
       "5         6  2016-01-02 11:35:00  15251041   251678         1       61.99\n",
       "6         7  2016-01-02 11:36:00  14769966   218373         1       49.99\n",
       "7         7  2016-01-02 11:36:00  14769966   243278         1       23.49\n",
       "8         9  2016-01-02 11:55:00   5904487   258744         1       38.99\n",
       "9        10  2016-01-02 12:16:00   3769351   255802         1       32.99"
      ]
     },
     "execution_count": 3,
     "metadata": {},
     "output_type": "execute_result"
    }
   ],
   "source": [
    "trans_df.head(10)"
   ]
  },
  {
   "cell_type": "code",
   "execution_count": 4,
   "metadata": {},
   "outputs": [
    {
     "name": "stdout",
     "output_type": "stream",
     "text": [
      "<class 'pandas.core.frame.DataFrame'>\n",
      "RangeIndex: 2666 entries, 0 to 2665\n",
      "Data columns (total 6 columns):\n",
      " #   Column      Non-Null Count  Dtype  \n",
      "---  ------      --------------  -----  \n",
      " 0   trans_id    2666 non-null   int64  \n",
      " 1   trans_dt    2666 non-null   object \n",
      " 2   cust_id     2666 non-null   int64  \n",
      " 3   prod_id     2666 non-null   int64  \n",
      " 4   item_qty    2666 non-null   int64  \n",
      " 5   item_price  2666 non-null   float64\n",
      "dtypes: float64(1), int64(4), object(1)\n",
      "memory usage: 125.1+ KB\n"
     ]
    }
   ],
   "source": [
    "trans_df.info()"
   ]
  },
  {
   "cell_type": "markdown",
   "metadata": {},
   "source": [
    "## Step 3: Process"
   ]
  },
  {
   "cell_type": "markdown",
   "metadata": {},
   "source": [
    "This is where I clean the data and making sure that the data are consistent."
   ]
  },
  {
   "cell_type": "markdown",
   "metadata": {},
   "source": [
    "Check for NaN value"
   ]
  },
  {
   "cell_type": "code",
   "execution_count": 5,
   "metadata": {},
   "outputs": [
    {
     "name": "stdout",
     "output_type": "stream",
     "text": [
      "False False False\n"
     ]
    }
   ],
   "source": [
    "print(\n",
    "trans_df.isna().values.any(),\n",
    "prod_df.isna().values.any(),\n",
    "seg_df.isna().values.any())"
   ]
  },
  {
   "cell_type": "code",
   "execution_count": 6,
   "metadata": {},
   "outputs": [
    {
     "name": "stdout",
     "output_type": "stream",
     "text": [
      "False False False\n"
     ]
    }
   ],
   "source": [
    "print(\n",
    "trans_df.isnull().values.any(),\n",
    "prod_df.isnull().values.any(),\n",
    "seg_df.isnull().values.any())"
   ]
  },
  {
   "cell_type": "markdown",
   "metadata": {},
   "source": [
    "Check for duplicate transactions"
   ]
  },
  {
   "cell_type": "code",
   "execution_count": 7,
   "metadata": {},
   "outputs": [
    {
     "data": {
      "text/html": [
       "<div>\n",
       "<style scoped>\n",
       "    .dataframe tbody tr th:only-of-type {\n",
       "        vertical-align: middle;\n",
       "    }\n",
       "\n",
       "    .dataframe tbody tr th {\n",
       "        vertical-align: top;\n",
       "    }\n",
       "\n",
       "    .dataframe thead th {\n",
       "        text-align: right;\n",
       "    }\n",
       "</style>\n",
       "<table border=\"1\" class=\"dataframe\">\n",
       "  <thead>\n",
       "    <tr style=\"text-align: right;\">\n",
       "      <th></th>\n",
       "      <th>trans_id</th>\n",
       "      <th>trans_dt</th>\n",
       "      <th>cust_id</th>\n",
       "      <th>prod_id</th>\n",
       "      <th>item_qty</th>\n",
       "      <th>item_price</th>\n",
       "    </tr>\n",
       "  </thead>\n",
       "  <tbody>\n",
       "    <tr>\n",
       "      <th>1619</th>\n",
       "      <td>1620</td>\n",
       "      <td>2016-01-02 11:02:00</td>\n",
       "      <td>9960002</td>\n",
       "      <td>223909</td>\n",
       "      <td>1</td>\n",
       "      <td>31.99</td>\n",
       "    </tr>\n",
       "    <tr>\n",
       "      <th>1620</th>\n",
       "      <td>1620</td>\n",
       "      <td>2016-01-02 11:02:00</td>\n",
       "      <td>9960002</td>\n",
       "      <td>223909</td>\n",
       "      <td>1</td>\n",
       "      <td>31.99</td>\n",
       "    </tr>\n",
       "  </tbody>\n",
       "</table>\n",
       "</div>"
      ],
      "text/plain": [
       "      trans_id             trans_dt  cust_id  prod_id  item_qty  item_price\n",
       "1619      1620  2016-01-02 11:02:00  9960002   223909         1       31.99\n",
       "1620      1620  2016-01-02 11:02:00  9960002   223909         1       31.99"
      ]
     },
     "execution_count": 7,
     "metadata": {},
     "output_type": "execute_result"
    }
   ],
   "source": [
    "trans_df[trans_df.duplicated(keep=False)]"
   ]
  },
  {
   "cell_type": "code",
   "execution_count": 8,
   "metadata": {},
   "outputs": [],
   "source": [
    "trans_df = trans_df.drop_duplicates()"
   ]
  },
  {
   "cell_type": "markdown",
   "metadata": {},
   "source": [
    "Check for any duplicated product id"
   ]
  },
  {
   "cell_type": "code",
   "execution_count": 9,
   "metadata": {},
   "outputs": [
    {
     "data": {
      "text/html": [
       "<div>\n",
       "<style scoped>\n",
       "    .dataframe tbody tr th:only-of-type {\n",
       "        vertical-align: middle;\n",
       "    }\n",
       "\n",
       "    .dataframe tbody tr th {\n",
       "        vertical-align: top;\n",
       "    }\n",
       "\n",
       "    .dataframe thead th {\n",
       "        text-align: right;\n",
       "    }\n",
       "</style>\n",
       "<table border=\"1\" class=\"dataframe\">\n",
       "  <thead>\n",
       "    <tr style=\"text-align: right;\">\n",
       "      <th></th>\n",
       "      <th>prod_id</th>\n",
       "      <th>prod_name</th>\n",
       "      <th>brand</th>\n",
       "      <th>category</th>\n",
       "    </tr>\n",
       "  </thead>\n",
       "  <tbody>\n",
       "  </tbody>\n",
       "</table>\n",
       "</div>"
      ],
      "text/plain": [
       "Empty DataFrame\n",
       "Columns: [prod_id, prod_name, brand, category]\n",
       "Index: []"
      ]
     },
     "execution_count": 9,
     "metadata": {},
     "output_type": "execute_result"
    }
   ],
   "source": [
    "prod_df[prod_df.duplicated('prod_id',keep=False)]"
   ]
  },
  {
   "cell_type": "markdown",
   "metadata": {},
   "source": [
    "Changing the data type to corresponding columns"
   ]
  },
  {
   "cell_type": "code",
   "execution_count": 10,
   "metadata": {},
   "outputs": [
    {
     "name": "stdout",
     "output_type": "stream",
     "text": [
      "<class 'pandas.core.frame.DataFrame'>\n",
      "Int64Index: 2665 entries, 0 to 2665\n",
      "Data columns (total 6 columns):\n",
      " #   Column      Non-Null Count  Dtype         \n",
      "---  ------      --------------  -----         \n",
      " 0   trans_id    2665 non-null   int64         \n",
      " 1   trans_dt    2665 non-null   datetime64[ns]\n",
      " 2   cust_id     2665 non-null   int64         \n",
      " 3   prod_id     2665 non-null   int64         \n",
      " 4   item_qty    2665 non-null   int64         \n",
      " 5   item_price  2665 non-null   float64       \n",
      "dtypes: datetime64[ns](1), float64(1), int64(4)\n",
      "memory usage: 145.7 KB\n"
     ]
    },
    {
     "data": {
      "text/html": [
       "<div>\n",
       "<style scoped>\n",
       "    .dataframe tbody tr th:only-of-type {\n",
       "        vertical-align: middle;\n",
       "    }\n",
       "\n",
       "    .dataframe tbody tr th {\n",
       "        vertical-align: top;\n",
       "    }\n",
       "\n",
       "    .dataframe thead th {\n",
       "        text-align: right;\n",
       "    }\n",
       "</style>\n",
       "<table border=\"1\" class=\"dataframe\">\n",
       "  <thead>\n",
       "    <tr style=\"text-align: right;\">\n",
       "      <th></th>\n",
       "      <th>cust_id</th>\n",
       "      <th>seg_name</th>\n",
       "      <th>update_at</th>\n",
       "      <th>active_flag</th>\n",
       "    </tr>\n",
       "  </thead>\n",
       "  <tbody>\n",
       "    <tr>\n",
       "      <th>0</th>\n",
       "      <td>4402</td>\n",
       "      <td>ONE-OFFS</td>\n",
       "      <td>2014-06-01</td>\n",
       "      <td>N</td>\n",
       "    </tr>\n",
       "    <tr>\n",
       "      <th>1</th>\n",
       "      <td>4402</td>\n",
       "      <td>LAPSED</td>\n",
       "      <td>2015-12-01</td>\n",
       "      <td>N</td>\n",
       "    </tr>\n",
       "    <tr>\n",
       "      <th>2</th>\n",
       "      <td>4402</td>\n",
       "      <td>LAPSED</td>\n",
       "      <td>2015-06-01</td>\n",
       "      <td>N</td>\n",
       "    </tr>\n",
       "    <tr>\n",
       "      <th>3</th>\n",
       "      <td>4402</td>\n",
       "      <td>LAPSED</td>\n",
       "      <td>2014-01-01</td>\n",
       "      <td>N</td>\n",
       "    </tr>\n",
       "    <tr>\n",
       "      <th>4</th>\n",
       "      <td>4402</td>\n",
       "      <td>ONE-OFFS</td>\n",
       "      <td>2016-02-01</td>\n",
       "      <td>Y</td>\n",
       "    </tr>\n",
       "    <tr>\n",
       "      <th>...</th>\n",
       "      <td>...</td>\n",
       "      <td>...</td>\n",
       "      <td>...</td>\n",
       "      <td>...</td>\n",
       "    </tr>\n",
       "    <tr>\n",
       "      <th>6119</th>\n",
       "      <td>21233469</td>\n",
       "      <td>NEW</td>\n",
       "      <td>2016-02-01</td>\n",
       "      <td>Y</td>\n",
       "    </tr>\n",
       "    <tr>\n",
       "      <th>6120</th>\n",
       "      <td>21233549</td>\n",
       "      <td>NEW</td>\n",
       "      <td>2016-02-01</td>\n",
       "      <td>Y</td>\n",
       "    </tr>\n",
       "    <tr>\n",
       "      <th>6121</th>\n",
       "      <td>21233596</td>\n",
       "      <td>NEW</td>\n",
       "      <td>2016-02-01</td>\n",
       "      <td>Y</td>\n",
       "    </tr>\n",
       "    <tr>\n",
       "      <th>6122</th>\n",
       "      <td>21233911</td>\n",
       "      <td>NEW</td>\n",
       "      <td>2016-02-01</td>\n",
       "      <td>Y</td>\n",
       "    </tr>\n",
       "    <tr>\n",
       "      <th>6123</th>\n",
       "      <td>21233988</td>\n",
       "      <td>NEW</td>\n",
       "      <td>2016-02-01</td>\n",
       "      <td>Y</td>\n",
       "    </tr>\n",
       "  </tbody>\n",
       "</table>\n",
       "<p>6124 rows × 4 columns</p>\n",
       "</div>"
      ],
      "text/plain": [
       "       cust_id  seg_name  update_at active_flag\n",
       "0         4402  ONE-OFFS 2014-06-01           N\n",
       "1         4402    LAPSED 2015-12-01           N\n",
       "2         4402    LAPSED 2015-06-01           N\n",
       "3         4402    LAPSED 2014-01-01           N\n",
       "4         4402  ONE-OFFS 2016-02-01           Y\n",
       "...        ...       ...        ...         ...\n",
       "6119  21233469       NEW 2016-02-01           Y\n",
       "6120  21233549       NEW 2016-02-01           Y\n",
       "6121  21233596       NEW 2016-02-01           Y\n",
       "6122  21233911       NEW 2016-02-01           Y\n",
       "6123  21233988       NEW 2016-02-01           Y\n",
       "\n",
       "[6124 rows x 4 columns]"
      ]
     },
     "execution_count": 10,
     "metadata": {},
     "output_type": "execute_result"
    }
   ],
   "source": [
    "trans_df['trans_dt'] = pd.to_datetime(trans_df['trans_dt'])\n",
    "seg_df['update_at'] = pd.to_datetime(seg_df['update_at'])\n",
    "trans_df.info()\n",
    "seg_df"
   ]
  },
  {
   "cell_type": "markdown",
   "metadata": {},
   "source": [
    "By the sametic meaning of seg_name, each customer should only has one active flag, meaning only one active segment for each customer. Check if a customer has more than one active_flag."
   ]
  },
  {
   "cell_type": "code",
   "execution_count": 11,
   "metadata": {},
   "outputs": [
    {
     "data": {
      "text/plain": [
       "322"
      ]
     },
     "execution_count": 11,
     "metadata": {},
     "output_type": "execute_result"
    }
   ],
   "source": [
    "seg_df[seg_df.active_flag=='Y']['cust_id'].count() - seg_df['cust_id'].nunique()"
   ]
  },
  {
   "cell_type": "markdown",
   "metadata": {},
   "source": [
    "We have 322 customers with more than one active flag, I'm going to keep only the latest update if a customer has 2 or more active flag."
   ]
  },
  {
   "cell_type": "code",
   "execution_count": 12,
   "metadata": {},
   "outputs": [
    {
     "name": "stdout",
     "output_type": "stream",
     "text": [
      "<class 'pandas.core.frame.DataFrame'>\n",
      "Int64Index: 5802 entries, 2254 to 6081\n",
      "Data columns (total 4 columns):\n",
      " #   Column       Non-Null Count  Dtype         \n",
      "---  ------       --------------  -----         \n",
      " 0   cust_id      5802 non-null   int64         \n",
      " 1   seg_name     5802 non-null   object        \n",
      " 2   update_at    5802 non-null   datetime64[ns]\n",
      " 3   active_flag  5802 non-null   object        \n",
      "dtypes: datetime64[ns](1), int64(1), object(2)\n",
      "memory usage: 226.6+ KB\n"
     ]
    }
   ],
   "source": [
    "seg_df = (seg_df[seg_df.active_flag=='Y'].sort_values('update_at', ascending=False).drop_duplicates('cust_id')).append(seg_df[seg_df.active_flag=='N'])\n",
    "seg_df.sort_values('cust_id')\n",
    "seg_df.info()"
   ]
  },
  {
   "cell_type": "markdown",
   "metadata": {},
   "source": [
    "## Step 4: Analyze "
   ]
  },
  {
   "cell_type": "markdown",
   "metadata": {},
   "source": [
    "### 1. Sale Trends"
   ]
  },
  {
   "cell_type": "markdown",
   "metadata": {},
   "source": [
    "After some basic clean up, I used excel to generate a pivot table to help me find monthly revenue and trend. The first thing I noticed is the sale number on 2016-01-02 had way more sales compare to any other day. This can be caused by many reason, but without any additional information, I decided to filter out the sale from that day to make a more accurate sales trend. \n",
    "\n",
    "Steps and findings can be found in the excel file named \"master\"."
   ]
  },
  {
   "cell_type": "markdown",
   "metadata": {},
   "source": [
    "After ploting the monthly sales revenue, I notice there is a consistent growth over the last six months. Next, I digged deeper into each category and look at their performance in term of the monthly revenue."
   ]
  },
  {
   "cell_type": "markdown",
   "metadata": {},
   "source": [
    "In the month of May, men category has been down for 7%. On the other hand, Men only make up 15% of the overall revenue. With this in mind, lets look for the reason behind this."
   ]
  },
  {
   "cell_type": "markdown",
   "metadata": {},
   "source": [
    "### 2. Customer loyalty Impact"
   ]
  },
  {
   "cell_type": "markdown",
   "metadata": {},
   "source": [
    "I want to first find out how much revenue is generated between each segment and category. First we are going to merge transaction with active segments according to customer ID. Secondly, we need to quantify loyality level by ranking them, so that we would measure how loyality customers spend money on different category."
   ]
  },
  {
   "cell_type": "code",
   "execution_count": 13,
   "metadata": {},
   "outputs": [],
   "source": [
    "merge_df = trans_df.merge(prod_df, how='left',on='prod_id',suffixes=('_x', '_y'))\n",
    "merge_df = merge_df.merge(seg_df[seg_df.active_flag=='Y'], how='left', on='cust_id')"
   ]
  },
  {
   "cell_type": "code",
   "execution_count": 14,
   "metadata": {
    "scrolled": true
   },
   "outputs": [
    {
     "data": {
      "text/plain": [
       "array(['ONE-OFFS', 'VIP', 'LOYAL', 'INFREQUENT', 'NEW', 'INACTIVE',\n",
       "       'LAPSED', 'GONE AWAY'], dtype=object)"
      ]
     },
     "execution_count": 14,
     "metadata": {},
     "output_type": "execute_result"
    }
   ],
   "source": [
    "seg_df['seg_name'].unique()"
   ]
  },
  {
   "cell_type": "markdown",
   "metadata": {},
   "source": [
    "Assign loyality ranking - Assumption: by sematic meaning of segments name, we will rank them by VIP > LOYAL > INFREQUENT > ONE-OFFS > NEW > INACTIVE > LAPSED."
   ]
  },
  {
   "cell_type": "code",
   "execution_count": 15,
   "metadata": {
    "scrolled": true
   },
   "outputs": [
    {
     "data": {
      "text/html": [
       "<div>\n",
       "<style scoped>\n",
       "    .dataframe tbody tr th:only-of-type {\n",
       "        vertical-align: middle;\n",
       "    }\n",
       "\n",
       "    .dataframe tbody tr th {\n",
       "        vertical-align: top;\n",
       "    }\n",
       "\n",
       "    .dataframe thead th {\n",
       "        text-align: right;\n",
       "    }\n",
       "</style>\n",
       "<table border=\"1\" class=\"dataframe\">\n",
       "  <thead>\n",
       "    <tr style=\"text-align: right;\">\n",
       "      <th></th>\n",
       "      <th>trans_id</th>\n",
       "      <th>trans_dt</th>\n",
       "      <th>cust_id</th>\n",
       "      <th>prod_id</th>\n",
       "      <th>item_qty</th>\n",
       "      <th>item_price</th>\n",
       "      <th>prod_name</th>\n",
       "      <th>brand</th>\n",
       "      <th>category</th>\n",
       "      <th>seg_name</th>\n",
       "      <th>update_at</th>\n",
       "      <th>active_flag</th>\n",
       "      <th>rank</th>\n",
       "      <th>total</th>\n",
       "    </tr>\n",
       "  </thead>\n",
       "  <tbody>\n",
       "    <tr>\n",
       "      <th>0</th>\n",
       "      <td>1</td>\n",
       "      <td>2016-01-02 10:06:00</td>\n",
       "      <td>9085146</td>\n",
       "      <td>223029</td>\n",
       "      <td>1</td>\n",
       "      <td>42.99</td>\n",
       "      <td>Product 223029</td>\n",
       "      <td>L</td>\n",
       "      <td>Make up</td>\n",
       "      <td>ONE-OFFS</td>\n",
       "      <td>2016-02-01</td>\n",
       "      <td>Y</td>\n",
       "      <td>2</td>\n",
       "      <td>42.99</td>\n",
       "    </tr>\n",
       "    <tr>\n",
       "      <th>1</th>\n",
       "      <td>2</td>\n",
       "      <td>2016-01-02 10:30:00</td>\n",
       "      <td>1215814</td>\n",
       "      <td>252270</td>\n",
       "      <td>1</td>\n",
       "      <td>103.95</td>\n",
       "      <td>Product 252270</td>\n",
       "      <td>R</td>\n",
       "      <td>Women</td>\n",
       "      <td>INFREQUENT</td>\n",
       "      <td>2016-02-01</td>\n",
       "      <td>Y</td>\n",
       "      <td>3</td>\n",
       "      <td>103.95</td>\n",
       "    </tr>\n",
       "    <tr>\n",
       "      <th>2</th>\n",
       "      <td>2</td>\n",
       "      <td>2016-01-02 10:30:00</td>\n",
       "      <td>1215814</td>\n",
       "      <td>260383</td>\n",
       "      <td>1</td>\n",
       "      <td>74.99</td>\n",
       "      <td>Product 260383</td>\n",
       "      <td>C</td>\n",
       "      <td>Women</td>\n",
       "      <td>INFREQUENT</td>\n",
       "      <td>2016-02-01</td>\n",
       "      <td>Y</td>\n",
       "      <td>3</td>\n",
       "      <td>74.99</td>\n",
       "    </tr>\n",
       "    <tr>\n",
       "      <th>3</th>\n",
       "      <td>4</td>\n",
       "      <td>2016-01-02 11:33:00</td>\n",
       "      <td>18511160</td>\n",
       "      <td>269119</td>\n",
       "      <td>1</td>\n",
       "      <td>51.99</td>\n",
       "      <td>Product 269119</td>\n",
       "      <td>L</td>\n",
       "      <td>Women</td>\n",
       "      <td>ONE-OFFS</td>\n",
       "      <td>2016-02-01</td>\n",
       "      <td>Y</td>\n",
       "      <td>2</td>\n",
       "      <td>51.99</td>\n",
       "    </tr>\n",
       "    <tr>\n",
       "      <th>4</th>\n",
       "      <td>4</td>\n",
       "      <td>2016-01-02 11:33:00</td>\n",
       "      <td>18511160</td>\n",
       "      <td>411162</td>\n",
       "      <td>1</td>\n",
       "      <td>59.99</td>\n",
       "      <td>Product 411162</td>\n",
       "      <td>K</td>\n",
       "      <td>Women</td>\n",
       "      <td>ONE-OFFS</td>\n",
       "      <td>2016-02-01</td>\n",
       "      <td>Y</td>\n",
       "      <td>2</td>\n",
       "      <td>59.99</td>\n",
       "    </tr>\n",
       "    <tr>\n",
       "      <th>...</th>\n",
       "      <td>...</td>\n",
       "      <td>...</td>\n",
       "      <td>...</td>\n",
       "      <td>...</td>\n",
       "      <td>...</td>\n",
       "      <td>...</td>\n",
       "      <td>...</td>\n",
       "      <td>...</td>\n",
       "      <td>...</td>\n",
       "      <td>...</td>\n",
       "      <td>...</td>\n",
       "      <td>...</td>\n",
       "      <td>...</td>\n",
       "      <td>...</td>\n",
       "    </tr>\n",
       "    <tr>\n",
       "      <th>2660</th>\n",
       "      <td>2662</td>\n",
       "      <td>2016-06-18 10:00:00</td>\n",
       "      <td>3649704</td>\n",
       "      <td>354724683</td>\n",
       "      <td>1</td>\n",
       "      <td>49.99</td>\n",
       "      <td>Product 354724683</td>\n",
       "      <td>D</td>\n",
       "      <td>Men</td>\n",
       "      <td>VIP</td>\n",
       "      <td>2016-05-01</td>\n",
       "      <td>Y</td>\n",
       "      <td>5</td>\n",
       "      <td>49.99</td>\n",
       "    </tr>\n",
       "    <tr>\n",
       "      <th>2661</th>\n",
       "      <td>2662</td>\n",
       "      <td>2016-06-18 10:00:00</td>\n",
       "      <td>3649704</td>\n",
       "      <td>365543537</td>\n",
       "      <td>1</td>\n",
       "      <td>30.99</td>\n",
       "      <td>Product 365543537</td>\n",
       "      <td>L</td>\n",
       "      <td>Women</td>\n",
       "      <td>VIP</td>\n",
       "      <td>2016-05-01</td>\n",
       "      <td>Y</td>\n",
       "      <td>5</td>\n",
       "      <td>30.99</td>\n",
       "    </tr>\n",
       "    <tr>\n",
       "      <th>2662</th>\n",
       "      <td>2662</td>\n",
       "      <td>2016-06-18 10:00:00</td>\n",
       "      <td>3649704</td>\n",
       "      <td>364872356</td>\n",
       "      <td>1</td>\n",
       "      <td>41.99</td>\n",
       "      <td>Product 364872356</td>\n",
       "      <td>L</td>\n",
       "      <td>Sun</td>\n",
       "      <td>VIP</td>\n",
       "      <td>2016-05-01</td>\n",
       "      <td>Y</td>\n",
       "      <td>5</td>\n",
       "      <td>41.99</td>\n",
       "    </tr>\n",
       "    <tr>\n",
       "      <th>2663</th>\n",
       "      <td>2665</td>\n",
       "      <td>2016-06-18 17:51:00</td>\n",
       "      <td>4095901</td>\n",
       "      <td>277123</td>\n",
       "      <td>1</td>\n",
       "      <td>89.99</td>\n",
       "      <td>Product 277123</td>\n",
       "      <td>G</td>\n",
       "      <td>Men</td>\n",
       "      <td>INFREQUENT</td>\n",
       "      <td>2016-02-01</td>\n",
       "      <td>Y</td>\n",
       "      <td>3</td>\n",
       "      <td>89.99</td>\n",
       "    </tr>\n",
       "    <tr>\n",
       "      <th>2664</th>\n",
       "      <td>2666</td>\n",
       "      <td>2016-06-18 12:34:00</td>\n",
       "      <td>7989374</td>\n",
       "      <td>273217760</td>\n",
       "      <td>1</td>\n",
       "      <td>46.99</td>\n",
       "      <td>Product 273217760</td>\n",
       "      <td>J</td>\n",
       "      <td>Women</td>\n",
       "      <td>ONE-OFFS</td>\n",
       "      <td>2016-02-01</td>\n",
       "      <td>Y</td>\n",
       "      <td>2</td>\n",
       "      <td>46.99</td>\n",
       "    </tr>\n",
       "  </tbody>\n",
       "</table>\n",
       "<p>2665 rows × 14 columns</p>\n",
       "</div>"
      ],
      "text/plain": [
       "      trans_id            trans_dt   cust_id    prod_id  item_qty  item_price  \\\n",
       "0            1 2016-01-02 10:06:00   9085146     223029         1       42.99   \n",
       "1            2 2016-01-02 10:30:00   1215814     252270         1      103.95   \n",
       "2            2 2016-01-02 10:30:00   1215814     260383         1       74.99   \n",
       "3            4 2016-01-02 11:33:00  18511160     269119         1       51.99   \n",
       "4            4 2016-01-02 11:33:00  18511160     411162         1       59.99   \n",
       "...        ...                 ...       ...        ...       ...         ...   \n",
       "2660      2662 2016-06-18 10:00:00   3649704  354724683         1       49.99   \n",
       "2661      2662 2016-06-18 10:00:00   3649704  365543537         1       30.99   \n",
       "2662      2662 2016-06-18 10:00:00   3649704  364872356         1       41.99   \n",
       "2663      2665 2016-06-18 17:51:00   4095901     277123         1       89.99   \n",
       "2664      2666 2016-06-18 12:34:00   7989374  273217760         1       46.99   \n",
       "\n",
       "              prod_name brand category    seg_name  update_at active_flag  \\\n",
       "0        Product 223029     L  Make up    ONE-OFFS 2016-02-01           Y   \n",
       "1        Product 252270     R    Women  INFREQUENT 2016-02-01           Y   \n",
       "2        Product 260383     C    Women  INFREQUENT 2016-02-01           Y   \n",
       "3        Product 269119     L    Women    ONE-OFFS 2016-02-01           Y   \n",
       "4        Product 411162     K    Women    ONE-OFFS 2016-02-01           Y   \n",
       "...                 ...   ...      ...         ...        ...         ...   \n",
       "2660  Product 354724683     D      Men         VIP 2016-05-01           Y   \n",
       "2661  Product 365543537     L    Women         VIP 2016-05-01           Y   \n",
       "2662  Product 364872356     L      Sun         VIP 2016-05-01           Y   \n",
       "2663     Product 277123     G      Men  INFREQUENT 2016-02-01           Y   \n",
       "2664  Product 273217760     J    Women    ONE-OFFS 2016-02-01           Y   \n",
       "\n",
       "      rank   total  \n",
       "0        2   42.99  \n",
       "1        3  103.95  \n",
       "2        3   74.99  \n",
       "3        2   51.99  \n",
       "4        2   59.99  \n",
       "...    ...     ...  \n",
       "2660     5   49.99  \n",
       "2661     5   30.99  \n",
       "2662     5   41.99  \n",
       "2663     3   89.99  \n",
       "2664     2   46.99  \n",
       "\n",
       "[2665 rows x 14 columns]"
      ]
     },
     "execution_count": 15,
     "metadata": {},
     "output_type": "execute_result"
    }
   ],
   "source": [
    "merge_df['rank'] = merge_df['seg_name'].replace({'VIP':5,'LOYAL':4,'INFREQUENT':3, 'ONE-OFFS':2, 'NEW':1, 'INACTIVE':2, 'LAPSED':1, 'GONE AWAY':0})\n",
    "merge_df['total'] = merge_df.item_qty*merge_df.item_price\n",
    "merge_df"
   ]
  },
  {
   "cell_type": "markdown",
   "metadata": {},
   "source": [
    "Now lets pivot the table to see how each rank and category performed."
   ]
  },
  {
   "cell_type": "code",
   "execution_count": 16,
   "metadata": {
    "scrolled": false
   },
   "outputs": [
    {
     "data": {
      "text/html": [
       "<div>\n",
       "<style scoped>\n",
       "    .dataframe tbody tr th:only-of-type {\n",
       "        vertical-align: middle;\n",
       "    }\n",
       "\n",
       "    .dataframe tbody tr th {\n",
       "        vertical-align: top;\n",
       "    }\n",
       "\n",
       "    .dataframe thead th {\n",
       "        text-align: right;\n",
       "    }\n",
       "</style>\n",
       "<table border=\"1\" class=\"dataframe\">\n",
       "  <thead>\n",
       "    <tr style=\"text-align: right;\">\n",
       "      <th>rank</th>\n",
       "      <th>1</th>\n",
       "      <th>2</th>\n",
       "      <th>3</th>\n",
       "      <th>4</th>\n",
       "      <th>5</th>\n",
       "    </tr>\n",
       "    <tr>\n",
       "      <th>category</th>\n",
       "      <th></th>\n",
       "      <th></th>\n",
       "      <th></th>\n",
       "      <th></th>\n",
       "      <th></th>\n",
       "    </tr>\n",
       "  </thead>\n",
       "  <tbody>\n",
       "    <tr>\n",
       "      <th>Accessoires</th>\n",
       "      <td>133.39</td>\n",
       "      <td>349.49</td>\n",
       "      <td>600.88</td>\n",
       "      <td>218.08</td>\n",
       "      <td>455.02</td>\n",
       "    </tr>\n",
       "    <tr>\n",
       "      <th>Make up</th>\n",
       "      <td>1128.70</td>\n",
       "      <td>4292.41</td>\n",
       "      <td>8353.24</td>\n",
       "      <td>5123.84</td>\n",
       "      <td>7804.06</td>\n",
       "    </tr>\n",
       "    <tr>\n",
       "      <th>Men</th>\n",
       "      <td>910.48</td>\n",
       "      <td>3971.19</td>\n",
       "      <td>5206.97</td>\n",
       "      <td>2322.94</td>\n",
       "      <td>3747.14</td>\n",
       "    </tr>\n",
       "    <tr>\n",
       "      <th>Sun</th>\n",
       "      <td>15.80</td>\n",
       "      <td>4.99</td>\n",
       "      <td>155.96</td>\n",
       "      <td>183.84</td>\n",
       "      <td>908.15</td>\n",
       "    </tr>\n",
       "    <tr>\n",
       "      <th>Women</th>\n",
       "      <td>2766.95</td>\n",
       "      <td>10093.16</td>\n",
       "      <td>14263.08</td>\n",
       "      <td>10716.92</td>\n",
       "      <td>19429.67</td>\n",
       "    </tr>\n",
       "  </tbody>\n",
       "</table>\n",
       "</div>"
      ],
      "text/plain": [
       "rank               1         2         3         4         5\n",
       "category                                                    \n",
       "Accessoires   133.39    349.49    600.88    218.08    455.02\n",
       "Make up      1128.70   4292.41   8353.24   5123.84   7804.06\n",
       "Men           910.48   3971.19   5206.97   2322.94   3747.14\n",
       "Sun            15.80      4.99    155.96    183.84    908.15\n",
       "Women        2766.95  10093.16  14263.08  10716.92  19429.67"
      ]
     },
     "execution_count": 16,
     "metadata": {},
     "output_type": "execute_result"
    }
   ],
   "source": [
    "seg_cat_revenue = pd.pivot_table(merge_df, values='total', index=['category'], columns=['rank'], aggfunc=np.sum)\n",
    "seg_cat_revenue"
   ]
  },
  {
   "cell_type": "code",
   "execution_count": 17,
   "metadata": {},
   "outputs": [
    {
     "data": {
      "text/plain": [
       "Text(0.5, 1.0, 'Revenue from Each Segment of Customer')"
      ]
     },
     "execution_count": 17,
     "metadata": {},
     "output_type": "execute_result"
    },
    {
     "data": {
      "image/png": "[encoded data removed]",
      "text/plain": [
       "<Figure size 842.4x595.44 with 1 Axes>"
      ]
     },
     "metadata": {},
     "output_type": "display_data"
    }
   ],
   "source": [
    "sns.set(font_scale=1.5,rc={'figure.figsize':(11.7,8.27)})\n",
    "bar1 = seg_cat_revenue.T.plot(kind='bar', stacked=True)\n",
    "bar1.set_xlabel('Loyality Rank')\n",
    "bar1.set_ylabel('Revenue')\n",
    "bar1.set_title('Revenue from Each Segment of Customer')"
   ]
  },
  {
   "cell_type": "markdown",
   "metadata": {},
   "source": [
    "Frist, we can tell there is correlation between loyalty rank and revenue, more revenue are coming from the loyal customer group. However, since we didn't normalize the number of transaction in each loyalty rank, we are not sure if this correlation is casue by \"more loyal cutomer likely getting more expensive item\", or simply there are more cutomers belongs to the loyal group. To take a closer look, we will have to investigate how much a loyal customer will likely spend on each transaction.\n"
   ]
  },
  {
   "cell_type": "code",
   "execution_count": 18,
   "metadata": {},
   "outputs": [
    {
     "data": {
      "text/plain": [
       "Text(0, 0.5, 'Transaction Total')"
      ]
     },
     "execution_count": 18,
     "metadata": {},
     "output_type": "execute_result"
    },
    {
     "data": {
      "image/png": "[encoded data removed]",
      "text/plain": [
       "<Figure size 842.4x595.44 with 1 Axes>"
      ]
     },
     "metadata": {},
     "output_type": "display_data"
    }
   ],
   "source": [
    "fig2 = sns.barplot(x='rank', y='total', data=merge_df)\n",
    "fig2.set_title('Average Transaction Total in Each Segment')\n",
    "fig2.set_xlabel('Loyality Rank')\n",
    "fig2.set_ylabel('Transaction Total')"
   ]
  },
  {
   "cell_type": "markdown",
   "metadata": {},
   "source": [
    "Here, we can concluded that a more loyal has a higher transaction total on average. Nonetheless, we cannot concluded that having more loyal customer causing more in revenue, lets look at the disturbution of customers on each loyalty level to find out."
   ]
  },
  {
   "cell_type": "code",
   "execution_count": 19,
   "metadata": {},
   "outputs": [
    {
     "data": {
      "image/png": "[encoded data removed]",
      "text/plain": [
       "<Figure size 842.4x595.44 with 1 Axes>"
      ]
     },
     "metadata": {},
     "output_type": "display_data"
    }
   ],
   "source": [
    "seg_count = merge_df.groupby('seg_name')['rank'].count()\n",
    "seg_count.plot.pie(autopct='%1.1f%%').set_title('Distribution of Segments')\n",
    "sns.set(font_scale=1.2)"
   ]
  },
  {
   "cell_type": "markdown",
   "metadata": {},
   "source": [
    "Conclusion: As result, a more loyal customer tend to spend more money in each transaction, meaning they are buying more expensive item. Secondly, around 45% of our trandsactions are from a loyal segment. However, we have more infrequent shoppers than loyal shoppers. In order to further boost sales, I suggest creating loyalty program/marketing campaign that target infrequent customer, pushing them into a high tier of loyalty."
   ]
  },
  {
   "cell_type": "markdown",
   "metadata": {},
   "source": [
    "### 3. Category Insights"
   ]
  },
  {
   "cell_type": "markdown",
   "metadata": {},
   "source": [
    "Lastly, looking at each loyalty rank, most of the revenue were coming from category Women and Make up. This is a good sign that these two categories are performing really well, making up over 80% most of the revenue, to take advantage of it, we need to look at how much listing do we have for each category so that we can make adjustment and take out some product from under performed category."
   ]
  },
  {
   "cell_type": "code",
   "execution_count": 20,
   "metadata": {},
   "outputs": [
    {
     "data": {
      "image/png": "[encoded data removed]",
      "text/plain": [
       "<Figure size 842.4x595.44 with 1 Axes>"
      ]
     },
     "metadata": {},
     "output_type": "display_data"
    }
   ],
   "source": [
    "category_revenue_pct = merge_df.groupby('category')['total'].sum()\n",
    "pie2 = category_revenue_pct.plot.pie( autopct='%1.1f%%')\n",
    "pie2.set_title('Cateogry Revenue Percentage')\n",
    "plt.tight_layout()"
   ]
  },
  {
   "cell_type": "code",
   "execution_count": 21,
   "metadata": {},
   "outputs": [
    {
     "data": {
      "text/plain": [
       "Women          821\n",
       "Make up        692\n",
       "Men            230\n",
       "Accessoires     89\n",
       "Sun             31\n",
       "Name: category, dtype: int64"
      ]
     },
     "execution_count": 21,
     "metadata": {},
     "output_type": "execute_result"
    }
   ],
   "source": [
    "prod_df['category'].value_counts()"
   ]
  },
  {
   "cell_type": "code",
   "execution_count": 22,
   "metadata": {},
   "outputs": [
    {
     "data": {
      "text/plain": [
       "[Text(0.5, 1.0, 'Number of Products in Each Category')]"
      ]
     },
     "execution_count": 22,
     "metadata": {},
     "output_type": "execute_result"
    },
    {
     "data": {
      "image/png": "[encoded data removed]",
      "text/plain": [
       "<Figure size 842.4x595.44 with 1 Axes>"
      ]
     },
     "metadata": {},
     "output_type": "display_data"
    }
   ],
   "source": [
    "ccount = sns.countplot(x='category', data=prod_df)\n",
    "ccount.set(title='Number of Products in Each Category')"
   ]
  },
  {
   "cell_type": "markdown",
   "metadata": {},
   "source": [
    "This graph shows the number of product the shop has in differnt category. It shows that we carry a lot of product that targeted women. This shows a correlation between revenue, since we carry a lot less product in Men, Accessoires, and Sun category, we make less sale in these cateogory. This does not mean that they are underperforming in term of sale, since the number of product we carry is less for men, meaning less option for male shopper, hence, less revenue in these category as the shop's target audience is mainly women."
   ]
  },
  {
   "cell_type": "code",
   "execution_count": 23,
   "metadata": {},
   "outputs": [
    {
     "data": {
      "text/html": [
       "<div>\n",
       "<style scoped>\n",
       "    .dataframe tbody tr th:only-of-type {\n",
       "        vertical-align: middle;\n",
       "    }\n",
       "\n",
       "    .dataframe tbody tr th {\n",
       "        vertical-align: top;\n",
       "    }\n",
       "\n",
       "    .dataframe thead th {\n",
       "        text-align: right;\n",
       "    }\n",
       "</style>\n",
       "<table border=\"1\" class=\"dataframe\">\n",
       "  <thead>\n",
       "    <tr style=\"text-align: right;\">\n",
       "      <th></th>\n",
       "      <th>item_price</th>\n",
       "    </tr>\n",
       "    <tr>\n",
       "      <th>category</th>\n",
       "      <th></th>\n",
       "    </tr>\n",
       "  </thead>\n",
       "  <tbody>\n",
       "    <tr>\n",
       "      <th>Accessoires</th>\n",
       "      <td>12.363406</td>\n",
       "    </tr>\n",
       "    <tr>\n",
       "      <th>Make up</th>\n",
       "      <td>28.030875</td>\n",
       "    </tr>\n",
       "    <tr>\n",
       "      <th>Men</th>\n",
       "      <td>49.504389</td>\n",
       "    </tr>\n",
       "    <tr>\n",
       "      <th>Sun</th>\n",
       "      <td>29.889250</td>\n",
       "    </tr>\n",
       "    <tr>\n",
       "      <th>Women</th>\n",
       "      <td>45.440244</td>\n",
       "    </tr>\n",
       "  </tbody>\n",
       "</table>\n",
       "</div>"
      ],
      "text/plain": [
       "             item_price\n",
       "category               \n",
       "Accessoires   12.363406\n",
       "Make up       28.030875\n",
       "Men           49.504389\n",
       "Sun           29.889250\n",
       "Women         45.440244"
      ]
     },
     "execution_count": 23,
     "metadata": {},
     "output_type": "execute_result"
    }
   ],
   "source": [
    "average_price = merge_df.groupby('category')[['item_price']].mean()\n",
    "average_price"
   ]
  },
  {
   "cell_type": "code",
   "execution_count": 24,
   "metadata": {
    "scrolled": true
   },
   "outputs": [
    {
     "data": {
      "text/plain": [
       "Text(0.5, 0, 'Category')"
      ]
     },
     "execution_count": 24,
     "metadata": {},
     "output_type": "execute_result"
    },
    {
     "data": {
      "image/png": "[encoded data removed]",
      "text/plain": [
       "<Figure size 842.4x595.44 with 1 Axes>"
      ]
     },
     "metadata": {},
     "output_type": "display_data"
    }
   ],
   "source": [
    "bar3 = sns.boxplot(x='category', y='item_price', data=merge_df, showmeans=True, meanprops={\"marker\":\"o\",\n",
    "                       \"markerfacecolor\":\"white\", \n",
    "                       \"markeredgecolor\":\"black\",\n",
    "                      \"markersize\":\"10\"})\n",
    "bar3.set_title('Average Money Spent on a Product in Different Category')\n",
    "plt.ylabel('Price')\n",
    "plt.xlabel('Category')"
   ]
  },
  {
   "cell_type": "markdown",
   "metadata": {},
   "source": [
    "This graph shows the average money of a customer spent on an item in each category. The average money spent on a men item is not too far off compare to women, meaning that male and female are as likely to spend the same amount of money, men might be even higher. However, this can be used to explain why men category has less revenues percentage, it is because we simply do not have many men's products for male customer."
   ]
  }
 ],
 "metadata": {
  "kernelspec": {
   "display_name": "Python 3",
   "language": "python",
   "name": "python3"
  },
  "language_info": {
   "codemirror_mode": {
    "name": "ipython",
    "version": 3
   },
   "file_extension": ".py",
   "mimetype": "text/x-python",
   "name": "python",
   "nbconvert_exporter": "python",
   "pygments_lexer": "ipython3",
   "version": "3.8.5"
  }
 },
 "nbformat": 4,
 "nbformat_minor": 4
}
